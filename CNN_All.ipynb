{
 "cells": [
  {
   "cell_type": "markdown",
   "id": "45845f7a",
   "metadata": {},
   "source": [
    "Install Dependencies"
   ]
  },
  {
   "cell_type": "code",
   "execution_count": 1,
   "id": "e3951f66",
   "metadata": {},
   "outputs": [],
   "source": [
    "import torch\n",
    "import torch.nn as nn\n",
    "import torch.optim as optim\n",
    "from torch.utils.data import Dataset, DataLoader\n",
    "import cv2\n",
    "import numpy as np\n",
    "import pandas as pd\n",
    "import os\n",
    "from sklearn.preprocessing import LabelEncoder\n",
    "from sklearn.metrics import classification_report"
   ]
  },
  {
   "cell_type": "markdown",
   "id": "5a51382d",
   "metadata": {},
   "source": [
    "Load Dataset"
   ]
  },
  {
   "cell_type": "code",
   "execution_count": null,
   "id": "283fd0fb",
   "metadata": {},
   "outputs": [],
   "source": [
    "# Load the Dataset\n",
    "def load_dataset(txt_file):\n",
    "    data, labels = [], []\n",
    "    with open(txt_file, 'r') as file:\n",
    "        for line in file.readlines():\n",
    "            image_path = line.strip()\n",
    "            if os.path.exists(image_path):\n",
    "                label = image_path.split('/')[1] \n",
    "                data.append(image_path)\n",
    "                labels.append(label)\n",
    "    return pd.DataFrame({'image_path': data, 'label': labels})"
   ]
  },
  {
   "cell_type": "markdown",
   "id": "7ea605f3",
   "metadata": {},
   "source": [
    "Define CNN Model"
   ]
  },
  {
   "cell_type": "code",
   "execution_count": null,
   "id": "51ec9f8b",
   "metadata": {},
   "outputs": [],
   "source": [
    "# Simple CNN Model\n",
    "class SimpleCNN(nn.Module):\n",
    "    def __init__(self, num_classes):\n",
    "        super(SimpleCNN, self).__init__()\n",
    "        self.conv1 = nn.Conv2d(3, 16, kernel_size=3, stride=1, padding=1)\n",
    "        self.conv2 = nn.Conv2d(16, 32, kernel_size=3, stride=1, padding=1)\n",
    "        self.fc = nn.Linear(32*16*16, num_classes)\n",
    "        \n",
    "    def forward(self, x):\n",
    "        x = torch.relu(self.conv1(x))\n",
    "        x = torch.max_pool2d(x, 2)\n",
    "        x = torch.relu(self.conv2(x))\n",
    "        x = torch.max_pool2d(x, 2)\n",
    "        x = x.view(x.size(0), -1)\n",
    "        x = self.fc(x)\n",
    "        return x"
   ]
  },
  {
   "cell_type": "markdown",
   "id": "59bae72d",
   "metadata": {},
   "source": [
    "Preprocess Data"
   ]
  },
  {
   "cell_type": "code",
   "execution_count": null,
   "id": "b494e362",
   "metadata": {},
   "outputs": [],
   "source": [
    "# Preprocessing\n",
    "def preprocess_image(image_path):\n",
    "    image = cv2.imread(image_path)\n",
    "    image = cv2.resize(image, (64, 64))\n",
    "    image = image.transpose(2, 0, 1)\n",
    "    return torch.FloatTensor(image) / 255.0"
   ]
  },
  {
   "cell_type": "markdown",
   "id": "f836a614",
   "metadata": {},
   "source": [
    "Results"
   ]
  },
  {
   "cell_type": "code",
   "execution_count": null,
   "id": "b0a79d28",
   "metadata": {},
   "outputs": [],
   "source": [
    "# Main Workflow - Training & Evaluation\n",
    "\n",
    "def run_CNN(lr, epochs):\n",
    "    train_df = load_dataset(\"train.txt\")\n",
    "    test_df = load_dataset(\"val.txt\")\n",
    "    \n",
    "    X_train = torch.stack([preprocess_image(path) for path in train_df['image_path']])\n",
    "    X_test = torch.stack([preprocess_image(path) for path in test_df['image_path']])\n",
    "    \n",
    "    encoder = LabelEncoder()\n",
    "    y_train = encoder.fit_transform(train_df['label'])\n",
    "    y_test = encoder.transform(test_df['label'])\n",
    "    \n",
    " \n",
    "    y_train = torch.LongTensor(y_train)\n",
    "    y_test = torch.LongTensor(y_test)\n",
    "    \n",
    "\n",
    "    train_dataset = torch.utils.data.TensorDataset(X_train, y_train)\n",
    "    test_dataset = torch.utils.data.TensorDataset(X_test, y_test)\n",
    "    \n",
    "\n",
    "    train_loader = DataLoader(train_dataset, batch_size=32, shuffle=True)\n",
    "    test_loader = DataLoader(test_dataset, batch_size=32, shuffle=False)\n",
    "    \n",
    "    # Initialize model\n",
    "    model = SimpleCNN(num_classes=len(encoder.classes_))\n",
    "    criterion = nn.CrossEntropyLoss()\n",
    "    optimizer = optim.Adam(model.parameters(), lr=lr)\n",
    "    \n",
    "   \n",
    "    for epoch in range(epochs):\n",
    "        model.train()\n",
    "        for images, labels in train_loader:\n",
    "            optimizer.zero_grad()\n",
    "            outputs = model(images)\n",
    "            loss = criterion(outputs, labels)\n",
    "            loss.backward()\n",
    "            optimizer.step()\n",
    "    \n",
    "   \n",
    "    model.eval()\n",
    "    with torch.no_grad():\n",
    "        test_outputs = model(X_test)\n",
    "        _, predicted = torch.max(test_outputs, 1)\n",
    "        accuracy = (predicted == y_test).float().mean()\n",
    "        \n",
    "    print(f\"\\nResults [LR={lr}, BS={32}, Epochs={epochs}]:\")\n",
    "    print(f\"Test Accuracy: {accuracy.item():.4f}\")\n",
    "\n",
    "\n",
    "   \n",
    "    y_true = y_test.numpy()\n",
    "    y_pred = predicted.numpy()\n",
    "    print(\"\\nClassification Report:\")\n",
    "    print(classification_report(y_true, y_pred, target_names=encoder.classes_))\n",
    "    \n",
    "   \n",
    "    test_df['Predicted Label'] = encoder.inverse_transform(predicted.numpy())\n",
    "    test_df.to_csv(\"test_predictions_cnn.csv\", index=False)\n",
    "    "
   ]
  },
  {
   "cell_type": "code",
   "execution_count": 19,
   "id": "0fc420ac-4256-4534-b6fe-5778679c27ce",
   "metadata": {},
   "outputs": [
    {
     "name": "stdout",
     "output_type": "stream",
     "text": [
      "\n",
      "Results [LR=0.01, BS=32, Epochs=10]:\n",
      "Test Accuracy: 0.8950\n",
      "\n",
      "Classification Report:\n",
      "                precision    recall  f1-score   support\n",
      "\n",
      " museum-indoor       0.91      0.88      0.89       100\n",
      "museum-outdoor       0.88      0.91      0.90       100\n",
      "\n",
      "      accuracy                           0.90       200\n",
      "     macro avg       0.90      0.90      0.89       200\n",
      "  weighted avg       0.90      0.90      0.89       200\n",
      "\n"
     ]
    }
   ],
   "source": [
    "run_CNN(0.01, 10)"
   ]
  },
  {
   "cell_type": "code",
   "execution_count": 20,
   "id": "de38ad89-0c8a-486e-8d0a-e5a3e53013ce",
   "metadata": {},
   "outputs": [
    {
     "name": "stdout",
     "output_type": "stream",
     "text": [
      "\n",
      "Results [LR=0.01, BS=32, Epochs=20]:\n",
      "Test Accuracy: 0.8800\n",
      "\n",
      "Classification Report:\n",
      "                precision    recall  f1-score   support\n",
      "\n",
      " museum-indoor       0.85      0.92      0.88       100\n",
      "museum-outdoor       0.91      0.84      0.88       100\n",
      "\n",
      "      accuracy                           0.88       200\n",
      "     macro avg       0.88      0.88      0.88       200\n",
      "  weighted avg       0.88      0.88      0.88       200\n",
      "\n"
     ]
    }
   ],
   "source": [
    "run_CNN(0.01, 20)"
   ]
  },
  {
   "cell_type": "code",
   "execution_count": 21,
   "id": "668aa880-0ad6-4d82-9463-888de7c64ceb",
   "metadata": {},
   "outputs": [
    {
     "name": "stdout",
     "output_type": "stream",
     "text": [
      "\n",
      "Results [LR=0.001, BS=32, Epochs=10]:\n",
      "Test Accuracy: 0.9050\n",
      "\n",
      "Classification Report:\n",
      "                precision    recall  f1-score   support\n",
      "\n",
      " museum-indoor       0.91      0.90      0.90       100\n",
      "museum-outdoor       0.90      0.91      0.91       100\n",
      "\n",
      "      accuracy                           0.91       200\n",
      "     macro avg       0.91      0.91      0.90       200\n",
      "  weighted avg       0.91      0.91      0.90       200\n",
      "\n"
     ]
    }
   ],
   "source": [
    "run_CNN(0.001, 10)"
   ]
  },
  {
   "cell_type": "code",
   "execution_count": 22,
   "id": "984a5a97-68e7-46b9-9b63-97878b8a04b0",
   "metadata": {},
   "outputs": [
    {
     "name": "stdout",
     "output_type": "stream",
     "text": [
      "\n",
      "Results [LR=0.001, BS=32, Epochs=20]:\n",
      "Test Accuracy: 0.9000\n",
      "\n",
      "Classification Report:\n",
      "                precision    recall  f1-score   support\n",
      "\n",
      " museum-indoor       0.92      0.88      0.90       100\n",
      "museum-outdoor       0.88      0.92      0.90       100\n",
      "\n",
      "      accuracy                           0.90       200\n",
      "     macro avg       0.90      0.90      0.90       200\n",
      "  weighted avg       0.90      0.90      0.90       200\n",
      "\n"
     ]
    }
   ],
   "source": [
    "run_CNN(0.001, 20)"
   ]
  },
  {
   "cell_type": "code",
   "execution_count": 23,
   "id": "af687312-152d-4bb4-a6be-64944a49249b",
   "metadata": {},
   "outputs": [
    {
     "name": "stdout",
     "output_type": "stream",
     "text": [
      "\n",
      "Results [LR=0.0001, BS=32, Epochs=10]:\n",
      "Test Accuracy: 0.9150\n",
      "\n",
      "Classification Report:\n",
      "                precision    recall  f1-score   support\n",
      "\n",
      " museum-indoor       0.90      0.94      0.92       100\n",
      "museum-outdoor       0.94      0.89      0.91       100\n",
      "\n",
      "      accuracy                           0.92       200\n",
      "     macro avg       0.92      0.92      0.91       200\n",
      "  weighted avg       0.92      0.92      0.91       200\n",
      "\n"
     ]
    }
   ],
   "source": [
    "run_CNN(0.0001, 10)"
   ]
  },
  {
   "cell_type": "code",
   "execution_count": 26,
   "id": "634a9ff1-b6fd-44a3-8a07-75f845ee0537",
   "metadata": {},
   "outputs": [
    {
     "name": "stdout",
     "output_type": "stream",
     "text": [
      "\n",
      "Results [LR=0.0001, BS=32, Epochs=20]:\n",
      "Test Accuracy: 0.9300\n",
      "\n",
      "Classification Report:\n",
      "                precision    recall  f1-score   support\n",
      "\n",
      " museum-indoor       0.91      0.95      0.93       100\n",
      "museum-outdoor       0.95      0.91      0.93       100\n",
      "\n",
      "      accuracy                           0.93       200\n",
      "     macro avg       0.93      0.93      0.93       200\n",
      "  weighted avg       0.93      0.93      0.93       200\n",
      "\n"
     ]
    }
   ],
   "source": [
    "run_CNN(0.0001, 20)"
   ]
  },
  {
   "cell_type": "code",
   "execution_count": null,
   "id": "2f93abb6-63d6-4fcb-be80-70fb4800a399",
   "metadata": {},
   "outputs": [],
   "source": []
  }
 ],
 "metadata": {
  "kernelspec": {
   "display_name": "Python 3 (ipykernel)",
   "language": "python",
   "name": "python3"
  },
  "language_info": {
   "codemirror_mode": {
    "name": "ipython",
    "version": 3
   },
   "file_extension": ".py",
   "mimetype": "text/x-python",
   "name": "python",
   "nbconvert_exporter": "python",
   "pygments_lexer": "ipython3",
   "version": "3.12.4"
  }
 },
 "nbformat": 4,
 "nbformat_minor": 5
}
